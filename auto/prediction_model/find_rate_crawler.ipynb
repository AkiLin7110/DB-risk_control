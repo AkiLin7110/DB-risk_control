{
 "cells": [
  {
   "cell_type": "code",
   "execution_count": 1,
   "metadata": {},
   "outputs": [],
   "source": [
    "from selenium import webdriver\n",
    "from selenium.webdriver.common.by import By\n",
    "import time\n",
    "from selenium.webdriver.common.keys import Keys\n",
    "\n",
    "import pandas as pd\n",
    "from datetime import date, timedelta\n",
    "\n",
    "from tqdm import tqdm\n",
    "import numpy as np"
   ]
  },
  {
   "cell_type": "code",
   "execution_count": 2,
   "metadata": {},
   "outputs": [],
   "source": [
    "driver = webdriver.Chrome()\n",
    "pair = 'CNY'\n",
    "currency = pair\n",
    "years = [str(year) for year in np.arange(2014,2025,1)]\n",
    "pages = [str(page) for page in np.arange(1,10,1)]\n",
    "\n",
    "tables = pd.DataFrame()\n",
    "for year in years:\n",
    "    for page in pages:\n",
    "        try:\n",
    "            driver.get(f\"https://historical.findrate.tw/his.php?c={currency}&year={year}&page={page}\") # 更改網址以前往不同網頁\n",
    "            driver.maximize_window()\n",
    "\n",
    "            xpath = '//*[@id=\"right\"]/div[4]/table/tbody'\n",
    "            table = driver.find_element(By.XPATH, xpath).text\n",
    "\n",
    "            table = [tmp.split(' ') for tmp in table.split('\\n')]\n",
    "            table[0].insert(0, '日期')\n",
    "            table = pd.DataFrame(table[1:], columns = table[0])\n",
    "            table.index = table['日期']\n",
    "            del table['日期']\n",
    "            tables = pd.concat([tables, table])\n",
    "        except:\n",
    "            print(f\"在{year}_{page}爬不到資料!\\n\")\n",
    "\n",
    "driver.close()"
   ]
  },
  {
   "cell_type": "code",
   "execution_count": 3,
   "metadata": {},
   "outputs": [],
   "source": [
    "tables = tables.sort_index()"
   ]
  },
  {
   "cell_type": "code",
   "execution_count": 4,
   "metadata": {},
   "outputs": [],
   "source": [
    "tables.to_excel(f'FX_{currency}_FR.xlsx')"
   ]
  },
  {
   "cell_type": "code",
   "execution_count": 5,
   "metadata": {},
   "outputs": [],
   "source": [
    "tables.to_csv(f'FX_{currency}_FR.csv')"
   ]
  }
 ],
 "metadata": {
  "kernelspec": {
   "display_name": "database",
   "language": "python",
   "name": "python3"
  },
  "language_info": {
   "codemirror_mode": {
    "name": "ipython",
    "version": 3
   },
   "file_extension": ".py",
   "mimetype": "text/x-python",
   "name": "python",
   "nbconvert_exporter": "python",
   "pygments_lexer": "ipython3",
   "version": "3.7.12"
  }
 },
 "nbformat": 4,
 "nbformat_minor": 2
}
