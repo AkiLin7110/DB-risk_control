{
 "cells": [
  {
   "cell_type": "code",
   "execution_count": 1,
   "metadata": {},
   "outputs": [],
   "source": [
    "import pandas as pd\n",
    "import requests\n",
    "from bs4 import BeautifulSoup\n",
    "import numpy as np\n",
    "import matplotlib\n",
    "from tqdm  import tqdm\n",
    "from selenium import webdriver\n",
    "from selenium.webdriver.common.by import By\n",
    "\n",
    "headers = {\n",
    "    'user-agent': 'Mozilla/5.0 (Windows NT 10.0; Win64; x64) AppleWebKit/537.36 (KHTML, like Gecko) Chrome/128.0.0.0 Safari/537.36'\n",
    "}\n",
    "GEO = 'united-states'"
   ]
  },
  {
   "cell_type": "code",
   "execution_count": 2,
   "metadata": {},
   "outputs": [],
   "source": [
    "driver = webdriver.Chrome()\n",
    "driver.get(f'https://tradingeconomics.com/{GEO}/indicators')"
   ]
  },
  {
   "cell_type": "code",
   "execution_count": 3,
   "metadata": {},
   "outputs": [],
   "source": [
    "macro = driver.find_elements(By.XPATH, '//*[@id=\"pagemenutabs\"]')[0].text.split('\\n')[:-1]"
   ]
  },
  {
   "cell_type": "code",
   "execution_count": 4,
   "metadata": {},
   "outputs": [],
   "source": [
    "rows = []\n",
    "for l in range(0, len(macro)):\n",
    "    driver.find_element(By.XPATH, f'//*[@id=\"pagemenutabs\"]/li[{l+1}]/a').click()\n",
    "    data = driver.find_elements(By.XPATH, f'//*[@id=\"{macro[l].lower()}\"]/div/div/table/tbody')[0].text.replace('30 Year Mortgage Rate', 'thirty Year Mortgage Rate').replace('15 Year Mortgage Rate', 'fifteen Year Mortgage Rate').replace('Michigan 5 Year Inflation Expectations', 'Michigan five Year Inflation Expectations').replace('1000', 'one thousand').replace('4-week','four-week').split('\\n')\n",
    "    \n",
    "    for i in range(0,len(data)):\n",
    "        tmp = data[i].split(' ')\n",
    "        name = ''\n",
    "        unit = ''\n",
    "        notice_date = ''\n",
    "        last = ''\n",
    "        previous = ''\n",
    "        highest = ''\n",
    "        lowest = ''\n",
    "        signal = 0\n",
    "        pre = 0\n",
    "        for j in range(0,len(tmp)):\n",
    "            # j = pre\n",
    "            if signal == 0:\n",
    "                if ord(tmp[j][0])>=65: # name\n",
    "                    name += tmp[j]+' '\n",
    "                else: # 數字們\n",
    "                    signal = 1\n",
    "                    k = j\n",
    "\n",
    "            if signal == 1 and ord(tmp[j][0])>=65:\n",
    "                if '/' not in tmp[j]:\n",
    "                    unit += tmp[j]+' '\n",
    "                else:\n",
    "                    signal = 2\n",
    "                    pre = j\n",
    "            if signal == 2:\n",
    "                if '/' in tmp[j]:\n",
    "                    notice_date = tmp[j]\n",
    "            \n",
    "            \n",
    "        name = name[:-1]\n",
    "        unit = unit[:-1]\n",
    "        notice_date = notice_date[:-1]\n",
    "\n",
    "        try:\n",
    "            if '/' not in tmp[k+1] and ord(tmp[k+1][0])<65:\n",
    "                previous += tmp[k+1]\n",
    "            else:\n",
    "                previous = ''\n",
    "        except:\n",
    "            previous = ''\n",
    "        \n",
    "        try:\n",
    "            if '/' not in tmp[k+2] and ord(tmp[k+2][0])<65:\n",
    "                highest += tmp[k+2]\n",
    "        except:\n",
    "            highest = ''\n",
    "          \n",
    "        try:\n",
    "            if '/' not in tmp[k+3]and ord(tmp[k+3][0])<65:\n",
    "                lowest += tmp[k+3]\n",
    "        except:\n",
    "            lowest = ''\n",
    "        \n",
    "            \n",
    "        rows.append({'總經種類':macro[l],'指標名稱':name, 'Last':tmp[k], 'Previous': previous, 'Higest': highest, 'Lowest': lowest, '單位': unit, '公告日期': notice_date})"
   ]
  },
  {
   "cell_type": "code",
   "execution_count": 5,
   "metadata": {},
   "outputs": [],
   "source": [
    "data = pd.DataFrame(rows)"
   ]
  },
  {
   "cell_type": "code",
   "execution_count": 8,
   "metadata": {},
   "outputs": [],
   "source": [
    "data.to_excel(f'5_經濟數據_{GEO}.xlsx', index = 0)"
   ]
  }
 ],
 "metadata": {
  "kernelspec": {
   "display_name": "anue",
   "language": "python",
   "name": "python3"
  },
  "language_info": {
   "codemirror_mode": {
    "name": "ipython",
    "version": 3
   },
   "file_extension": ".py",
   "mimetype": "text/x-python",
   "name": "python",
   "nbconvert_exporter": "python",
   "pygments_lexer": "ipython3",
   "version": "3.9.19"
  }
 },
 "nbformat": 4,
 "nbformat_minor": 2
}
