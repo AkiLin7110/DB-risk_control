{
 "cells": [
  {
   "cell_type": "code",
   "execution_count": 1,
   "metadata": {},
   "outputs": [],
   "source": [
    "import pandas as pd\n",
    "import requests\n",
    "import shutil\n",
    "import datetime\n",
    "import ddddocr\n",
    "from IPython.display import Image\n",
    "from bs4 import BeautifulSoup\n",
    "from selenium import webdriver\n",
    "from selenium.webdriver.common.by import By\n",
    "from selenium.webdriver.common.keys import Keys\n",
    "from selenium.webdriver.chrome.options import Options\n",
    "import time\n",
    "from tqdm import tqdm\n",
    "import pyautogui\n",
    "import pyperclip\n",
    "\n",
    "import matplotlib\n",
    "matplotlib.rc('font', family='Microsoft JhengHei')\n",
    "matplotlib.rcParams['axes.unicode_minus']=False\n",
    "\n",
    "# headers = {\n",
    "#     'user-agent': 'Mozilla/5.0 (Windows NT 10.0; Win64; x64) AppleWebKit/537.36 (KHTML, like Gecko) Chrome/128.0.0.0 Safari/537.36'\n",
    "# }\n",
    "options = Options()\n",
    "options.add_argument(\"user-agent=Mozilla/5.0 (Windows NT 10.0; Win64; x64) AppleWebKit/537.36 (KHTML, like Gecko) Chrome/128.0.0.0 Safari/537.36\")\n",
    "\n",
    "searching_airport = 'PVG'"
   ]
  },
  {
   "cell_type": "code",
   "execution_count": 2,
   "metadata": {},
   "outputs": [],
   "source": [
    "driver = webdriver.Chrome(options=options)"
   ]
  },
  {
   "cell_type": "code",
   "execution_count": 3,
   "metadata": {},
   "outputs": [],
   "source": [
    "driver.get('https://globe.adsbexchange.com/')\n",
    "driver.maximize_window()"
   ]
  },
  {
   "cell_type": "code",
   "execution_count": 9,
   "metadata": {},
   "outputs": [
    {
     "data": {
      "text/plain": [
       "'27'"
      ]
     },
     "execution_count": 9,
     "metadata": {},
     "output_type": "execute_result"
    }
   ],
   "source": [
    "driver.find_elements(By.XPATH, '//*[@id=\"jump_input\"]')[0].send_keys(searching_airport)\n",
    "driver.find_elements(By.XPATH,'//*[@id=\"jump_form\"]/button[1]')[0].click()\n",
    "driver.find_element(By.XPATH, '//*[@id=\"dump1090_total_ac_positions\"]').text"
   ]
  },
  {
   "cell_type": "code",
   "execution_count": 5,
   "metadata": {},
   "outputs": [],
   "source": [
    "# pyautogui.dragTo(100, 100, duration=2, button='right') #用2秒按住滑鼠右鍵到x=100，y=100的位置\n",
    "# pyautogui.click(clicks=2, interval=0.5, button='right') #雙擊左鍵並且中途間隔0.5秒\n",
    "\n",
    "# pyautogui.keyDown('ctrl')\n",
    "# pyautogui.press('a')\n",
    "# pyautogui.keyUp('ctrl') #全選的功能鍵效果\n",
    "\n",
    "# pyautogui.keyDown('ctrl')\n",
    "# pyautogui.press('c')\n",
    "# pyautogui.keyUp('ctrl') #全選的功能鍵效果\n",
    "\n",
    "# pyautogui.scroll('up')\n",
    "\n",
    "# copied_text = pyperclip.paste()"
   ]
  },
  {
   "cell_type": "code",
   "execution_count": 6,
   "metadata": {},
   "outputs": [],
   "source": [
    "text = [tmp.split('\\t') for tmp in copied_text.split('\\r\\n') if '\\t' in tmp]\n",
    "df = pd.DataFrame(text, columns = text[0]).iloc[1:]\n",
    "df.index = [pd.to_datetime(datetime.datetime.now())]*len(df)"
   ]
  },
  {
   "cell_type": "code",
   "execution_count": 7,
   "metadata": {},
   "outputs": [],
   "source": [
    "df.index = [pd.to_datetime(datetime.datetime.now())]*len(df)\n",
    "df['airport'] = searching_airport"
   ]
  },
  {
   "cell_type": "code",
   "execution_count": 8,
   "metadata": {},
   "outputs": [],
   "source": [
    "df.to_excel(f'10_機場吞吐量_{searching_airport}.xlsx')"
   ]
  }
 ],
 "metadata": {
  "kernelspec": {
   "display_name": "anue",
   "language": "python",
   "name": "python3"
  },
  "language_info": {
   "codemirror_mode": {
    "name": "ipython",
    "version": 3
   },
   "file_extension": ".py",
   "mimetype": "text/x-python",
   "name": "python",
   "nbconvert_exporter": "python",
   "pygments_lexer": "ipython3",
   "version": "3.9.19"
  }
 },
 "nbformat": 4,
 "nbformat_minor": 2
}
