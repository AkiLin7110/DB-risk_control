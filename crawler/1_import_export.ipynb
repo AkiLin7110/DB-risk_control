{
 "cells": [
  {
   "cell_type": "code",
   "execution_count": 1,
   "metadata": {},
   "outputs": [],
   "source": [
    "import pandas as pd\n",
    "import requests\n",
    "import shutil\n",
    "import datetime\n",
    "import ddddocr\n",
    "from IPython.display import Image\n",
    "from bs4 import BeautifulSoup\n",
    "import matplotlib.pyplot as plt\n",
    "\n",
    "session = requests.Session()\n",
    "\n",
    "headers = {\n",
    "    'user-agent': 'Mozilla/5.0 (Windows NT 10.0; Win64; x64) AppleWebKit/537.36 (KHTML, like Gecko) Chrome/128.0.0.0 Safari/537.36'\n",
    "}\n"
   ]
  },
  {
   "cell_type": "code",
   "execution_count": 2,
   "metadata": {},
   "outputs": [
    {
     "name": "stdout",
     "output_type": "stream",
     "text": [
      "欢迎使用ddddocr，本项目专注带动行业内卷，个人博客:wenanzhe.com\n",
      "训练数据支持来源于:http://146.56.204.113:19199/preview\n",
      "爬虫框架feapder可快速一键接入，快速开启爬虫之旅：https://github.com/Boris-code/feapder\n",
      "谷歌reCaptcha验证码 / hCaptcha验证码 / funCaptcha验证码商业级识别接口：https://yescaptcha.com/i/NSwk7i\n"
     ]
    }
   ],
   "source": [
    "signal = 1\n",
    "while signal:\n",
    "    tmp = round(datetime.datetime.now().timestamp()*1000)\n",
    "    res = session.get(f'https://portal.sw.nat.gov.tw/APGA/Captcha_validNumGenerate?time={tmp}', stream = True, verify = False)\n",
    "    f = open('check.png', 'wb')\n",
    "    shutil.copyfileobj(res.raw, f)\n",
    "    f.close()\n",
    "\n",
    "    ocr = ddddocr.DdddOcr()\n",
    "    with open('check.png', 'rb') as f:\n",
    "        img_bytes = f.read()\n",
    "    code = ocr.classification(img_bytes)\n",
    "\n",
    "    '''防呆code'''\n",
    "    if len(code) == 6:\n",
    "        signal = 0\n",
    "        for char in code:\n",
    "            if ord(char) > 57:\n",
    "                signal = 1\n",
    "                break"
   ]
  },
  {
   "cell_type": "code",
   "execution_count": 3,
   "metadata": {},
   "outputs": [],
   "source": [
    "payload = {\n",
    "    'checkCaptcha': code,\n",
    "    'language': 'chinese'\n",
    "}"
   ]
  },
  {
   "cell_type": "code",
   "execution_count": 4,
   "metadata": {},
   "outputs": [],
   "source": [
    "res = session.post('https://portal.sw.nat.gov.tw/APGA/Captcha_checkCaptchaCode', data = payload)"
   ]
  },
  {
   "cell_type": "code",
   "execution_count": 5,
   "metadata": {},
   "outputs": [],
   "source": [
    "def get_data(data_type):\n",
    "    if data_type == 'import': \n",
    "        TypePort = '3'\n",
    "    else:\n",
    "        TypePort ='6'\n",
    "\n",
    "    # payload = {'pStartyear': '113',\n",
    "    # 'pEndyer': '113',\n",
    "    # 'pStartmonth': '1',\n",
    "    # 'pEndmonth': '8',\n",
    "    # 'pGtNote':'',\n",
    "    # 'pColSeq': '進出口別 / 日期',\n",
    "    # 'pCnyList': '',\n",
    "    # 'minYear': '92',\n",
    "    # 'maxYear': '113',\n",
    "    # 'maxMonth': '8',\n",
    "    # 'minMonth': '1',\n",
    "    # 'maxYearByYear': '113',\n",
    "    # 'searchInfo.TypePort': TypePort,\n",
    "    # 'searchInfo.TypeTime': '0',\n",
    "    # 'searchInfo.StartYear': '92',\n",
    "    # 'searchInfo.StartMonth': '1',\n",
    "    # 'searchInfo.EndYear': '113',\n",
    "    # 'searchInfo.EndMonth': '8',\n",
    "    # 'searchInfo.goodsType': '0',\n",
    "    # 'searchInfo.goodsName': '21',\n",
    "    # 'searchInfo.goodsCodeGroup': '8207502000',\n",
    "    # 'searchInfo.groupType': '1',\n",
    "    # 'searchInfo.CountryName':'',\n",
    "    # 'searchInfo.Type': '1',\n",
    "    # 'searchInfo.OrderType': '進出口別 / 日期',\n",
    "    # 'searchInfo.ExportType': 'web',\n",
    "    # 'searchInfo.Captcha': code}\n",
    "\n",
    "    payload = {'pStartyear': '92',\n",
    "        'pEndyer': '113',\n",
    "        'pStartmonth': '1',\n",
    "        'pEndmonth': '1',\n",
    "        'pGtNote': '',\n",
    "        'pColSeq': '進出口別 / 日期 / 貨品別 / 國家(地區)別',\n",
    "        'pCnyList': '中國大陸',\n",
    "        'minYear': '92',\n",
    "        'maxYear': '113',\n",
    "        'maxMonth': '8',\n",
    "        'minMonth': '1',\n",
    "        'maxYearByYear': '113',\n",
    "        'searchInfo.TypePort': TypePort,\n",
    "        'searchInfo.TypeTime': '0',\n",
    "        'searchInfo.StartYear': '92',\n",
    "        'searchInfo.StartMonth': '1',\n",
    "        'searchInfo.EndYear': '113',\n",
    "        'searchInfo.EndMonth': '1',\n",
    "        'searchInfo.goodsName': '21',\n",
    "        'searchInfo.goodsType': '2',\n",
    "        'searchInfo.goodsCodeGroup': '8207602000',\n",
    "        'searchInfo.groupType': '2',\n",
    "        'searchInfo.CountryName': '中國大陸',\n",
    "        'searchInfo.Type': '1',\n",
    "        'searchInfo.OrderType': '進出口別 / 日期 / 貨品別 / 國家(地區)別',\n",
    "        'searchInfo.ExportType': 'web',\n",
    "        'searchInfo.Captcha': code\n",
    "    }\n",
    "\n",
    "    res = session.post('https://portal.sw.nat.gov.tw/APGA/GA30_LIST', data = payload,  verify = True, headers = headers)\n",
    "    soup = BeautifulSoup(res.text, \"html.parser\")\n",
    "    # Parse the HTML content using BeautifulSoup\n",
    "    soup = BeautifulSoup(res.content, 'lxml')\n",
    "\n",
    "    # Find the table that contains the monthly import/export data\n",
    "    table = soup.find('table', {'id': 'dataList'})\n",
    "\n",
    "    # Create a list to hold the data\n",
    "    data = []\n",
    "\n",
    "    # Iterate through the rows of the table and extract data\n",
    "    for row in table.find_all('tr')[1:]:  # Skip the header row\n",
    "        columns = row.find_all('td')\n",
    "        # print(columns)\n",
    "        month_data = {\n",
    "            \"category\": columns[0].text.strip(),\n",
    "            \"date\": columns[1].text.strip().split('\\n')[0],\n",
    "            \"usd_amount\": columns[6].text.strip()\n",
    "        }\n",
    "        data.append(month_data)\n",
    "\n",
    "    return pd.DataFrame(data)"
   ]
  },
  {
   "cell_type": "code",
   "execution_count": 6,
   "metadata": {},
   "outputs": [],
   "source": [
    "data_import = get_data('import')\n",
    "data_export = get_data('export')"
   ]
  },
  {
   "cell_type": "code",
   "execution_count": 7,
   "metadata": {},
   "outputs": [],
   "source": [
    "test = pd.concat([data_import, data_export])"
   ]
  },
  {
   "cell_type": "code",
   "execution_count": 8,
   "metadata": {},
   "outputs": [],
   "source": [
    "test.to_excel('1_進出口總值(美元).xlsx')"
   ]
  },
  {
   "cell_type": "markdown",
   "metadata": {},
   "source": [
    "# 視覺化"
   ]
  },
  {
   "cell_type": "code",
   "execution_count": 9,
   "metadata": {},
   "outputs": [],
   "source": [
    "df = pd.read_excel('1_進出口總值(美元).xlsx')"
   ]
  },
  {
   "cell_type": "code",
   "execution_count": 10,
   "metadata": {},
   "outputs": [],
   "source": [
    "x = df[df['category'] == '出口總值(含復出口)']['date'].values\n",
    "y = df[df['category'] == '出口總值(含復出口)']['usd_amount'].values"
   ]
  }
 ],
 "metadata": {
  "kernelspec": {
   "display_name": "anue",
   "language": "python",
   "name": "python3"
  },
  "language_info": {
   "codemirror_mode": {
    "name": "ipython",
    "version": 3
   },
   "file_extension": ".py",
   "mimetype": "text/x-python",
   "name": "python",
   "nbconvert_exporter": "python",
   "pygments_lexer": "ipython3",
   "version": "3.9.19"
  }
 },
 "nbformat": 4,
 "nbformat_minor": 2
}
