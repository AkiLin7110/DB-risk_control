{
 "cells": [
  {
   "cell_type": "code",
   "execution_count": 1,
   "metadata": {},
   "outputs": [],
   "source": [
    "import pandas as pd\n",
    "import requests\n",
    "from bs4 import BeautifulSoup\n",
    "import numpy as np\n",
    "import matplotlib\n",
    "from tqdm  import tqdm\n",
    "from selenium import webdriver\n",
    "from selenium.webdriver.common.by import By\n",
    "\n",
    "headers = {\n",
    "    'user-agent': 'Mozilla/5.0 (Windows NT 10.0; Win64; x64) AppleWebKit/537.36 (KHTML, like Gecko) Chrome/128.0.0.0 Safari/537.36'\n",
    "}"
   ]
  },
  {
   "cell_type": "markdown",
   "metadata": {},
   "source": [
    "### 主幹航線準確率"
   ]
  },
  {
   "cell_type": "code",
   "execution_count": 2,
   "metadata": {},
   "outputs": [],
   "source": [
    "res = requests.get('https://www.sse.net.cn/index/singleIndex?indexType=gcspi')\n",
    "soup = BeautifulSoup(res.content, 'lxml')"
   ]
  },
  {
   "cell_type": "code",
   "execution_count": 20,
   "metadata": {},
   "outputs": [],
   "source": [
    "# Extract the tables from the HTML content\n",
    "tables = soup.find_all('table')\n",
    "\n",
    "# Function to extract table data\n",
    "def parse_table(table):\n",
    "    data = []\n",
    "    rows = table.find_all('tr')\n",
    "\n",
    "    # Get the headers\n",
    "    headers = [header.get_text() for header in rows[0].find_all('td')]\n",
    "    data.append(headers)\n",
    "\n",
    "    # Get the rest of the rows\n",
    "    count = 0\n",
    "    for row in rows:\n",
    "        cols = row.find_all('td')\n",
    "        cols = [ele.get_text(strip=True) for ele in cols]\n",
    "        data.append(cols)\n",
    "        count+=1\n",
    "\n",
    "    return pd.DataFrame(data[1:])\n",
    "\n",
    "# Extract data from both tables\n",
    "df_comprehensive = parse_table(tables[0])  # Comprehensive Punctuality Index\n",
    "df_trunk_routes = parse_table(tables[1])   # Global Trunk Routes Punctuality\n",
    "\n",
    "# Extract additional titles (assuming these titles are displayed somewhere in the HTML)\n",
    "comprehensive_title = \"全球主干航线综合准班率指数\"\n",
    "trunk_routes_title = \"全球主干航线到离港/收发货准班率指数\"\n"
   ]
  },
  {
   "cell_type": "code",
   "execution_count": 33,
   "metadata": {},
   "outputs": [],
   "source": [
    "df_comprehensive.to_excel('7_上海航運交易所_全球主幹航線綜合準班率指數.xlsx', header = 0, index = 0)"
   ]
  },
  {
   "cell_type": "code",
   "execution_count": 26,
   "metadata": {},
   "outputs": [],
   "source": [
    "df_trunk_routes.iloc[0] = [df_trunk_routes.iloc[0][0], df_trunk_routes.iloc[0][1], df_trunk_routes.iloc[0][1], df_trunk_routes.iloc[0][2], df_trunk_routes.iloc[0][2]]\n",
    "df_trunk_routes.iloc[1] = ['',df_trunk_routes.iloc[1][0], df_trunk_routes.iloc[1][1], df_trunk_routes.iloc[1][2], df_trunk_routes.iloc[1][3]]"
   ]
  },
  {
   "cell_type": "code",
   "execution_count": 34,
   "metadata": {},
   "outputs": [],
   "source": [
    "df_trunk_routes.to_excel('7_上海航運交易所_全球主幹航線到離港與收發獲準班率指數.xlsx', header = 0, index = 0)"
   ]
  },
  {
   "cell_type": "markdown",
   "metadata": {},
   "source": [
    "### 港口班輪準確率"
   ]
  },
  {
   "cell_type": "code",
   "execution_count": 76,
   "metadata": {},
   "outputs": [],
   "source": [
    "driver = webdriver.Chrome()\n",
    "driver.get('https://www.sse.net.cn/index/singleIndex?indexType=gcspi_port')\n",
    "driver.maximize_window()"
   ]
  },
  {
   "cell_type": "code",
   "execution_count": 78,
   "metadata": {},
   "outputs": [],
   "source": [
    "rows = driver.find_elements(By.XPATH, '//*[@id=\"right\"]/table')[0].text.split('\\n')\n",
    "new_rows = []\n",
    "for i in range(4,len(rows)):\n",
    "    tmp = rows[i].split(' ')\n",
    "    new_rows.append({'排名': tmp[0], '港口': tmp[1], '准班率(%)':tmp[2], '挂靠数':tmp[4], '班期综合服务水平': tmp[6], '在港时间(天)':tmp[7], '在泊時間(天)':tmp[8]})"
   ]
  },
  {
   "cell_type": "code",
   "execution_count": 100,
   "metadata": {},
   "outputs": [],
   "source": [
    "df = pd.DataFrame(new_rows)\n",
    "df_trunk_routes.to_excel('7_上海航運交易所_港口班輪準確率.xlsx', header = 0, index = 0)"
   ]
  },
  {
   "cell_type": "markdown",
   "metadata": {},
   "source": [
    "### 一帶一路航貿指數"
   ]
  },
  {
   "cell_type": "code",
   "execution_count": 106,
   "metadata": {},
   "outputs": [],
   "source": [
    "res = requests.get('https://www.sse.net.cn/index/singleIndex?indexType=brsti')"
   ]
  },
  {
   "cell_type": "code",
   "execution_count": 107,
   "metadata": {},
   "outputs": [],
   "source": [
    "soup = BeautifulSoup(res.content, 'lxml')\n",
    "\n",
    "tables = soup.find_all('table')\n",
    "rows = tables[0].find_all('tr')"
   ]
  },
  {
   "cell_type": "code",
   "execution_count": 117,
   "metadata": {},
   "outputs": [],
   "source": [
    "data = []\n",
    "for i in range(0,len(rows)):\n",
    "    data.append([header.get_text() for header in rows[i].find_all('td')])\n",
    "\n",
    "df = pd.DataFrame(data)\n",
    "df.to_excel('7_上海航運交易所_一帶一路航貿指數.xlsx', header = 0, index = 0)\n"
   ]
  },
  {
   "cell_type": "markdown",
   "metadata": {},
   "source": [
    "### 一帶一路貿易額指數"
   ]
  },
  {
   "cell_type": "code",
   "execution_count": 151,
   "metadata": {},
   "outputs": [],
   "source": [
    "res = requests.get('https://www.sse.net.cn/index/singleIndex?indexType=brtvi')"
   ]
  },
  {
   "cell_type": "code",
   "execution_count": 152,
   "metadata": {},
   "outputs": [],
   "source": [
    "soup = BeautifulSoup(res.content, 'lxml')\n",
    "\n",
    "tables = soup.find_all('table')\n",
    "rows = tables[0].find_all('tr')"
   ]
  },
  {
   "cell_type": "code",
   "execution_count": 153,
   "metadata": {},
   "outputs": [],
   "source": [
    "data = []\n",
    "for i in range(0,len(rows)):\n",
    "    data.append([header.get_text() for header in rows[i].find_all('td')])\n",
    "\n",
    "df = pd.DataFrame(data)\n",
    "df.to_excel('7_上海航運交易所_一帶一路貿易額指數.xlsx', header = 0, index = 0)"
   ]
  },
  {
   "cell_type": "markdown",
   "metadata": {},
   "source": [
    "### 一帶一路集裝箱海運量指數"
   ]
  },
  {
   "cell_type": "code",
   "execution_count": 172,
   "metadata": {},
   "outputs": [],
   "source": [
    "driver = webdriver.Chrome()\n",
    "driver.get('https://www.sse.net.cn/index/singleIndex?indexType=brcvi')\n",
    "driver.maximize_window()"
   ]
  },
  {
   "cell_type": "code",
   "execution_count": 173,
   "metadata": {},
   "outputs": [],
   "source": [
    "rows = driver.find_elements(By.XPATH, '//*[@id=\"right\"]/table')[0].text.split('\\n')"
   ]
  },
  {
   "cell_type": "code",
   "execution_count": 174,
   "metadata": {},
   "outputs": [],
   "source": [
    "data = []\n",
    "for i in range(2,len(rows)):\n",
    "    tmp = rows[i].split(' ')\n",
    "    if len(tmp)<4:\n",
    "        tmp.insert(1,'')\n",
    "    data.append(tmp)"
   ]
  },
  {
   "cell_type": "code",
   "execution_count": 175,
   "metadata": {},
   "outputs": [],
   "source": [
    "df = pd.DataFrame(data, columns=['指數','權重', '本期', '與上期比漲跌'])\n",
    "df.to_excel('7_上海航運交易所_集裝箱海運量指數.xlsx', index = 0)"
   ]
  },
  {
   "cell_type": "markdown",
   "metadata": {},
   "source": [
    "### 海上絲綢之路運價指數"
   ]
  },
  {
   "cell_type": "code",
   "execution_count": 160,
   "metadata": {},
   "outputs": [],
   "source": [
    "driver = webdriver.Chrome()\n",
    "driver.get('https://www.sse.net.cn/index/singleIndex?indexType=srfi')\n",
    "driver.maximize_window()"
   ]
  },
  {
   "cell_type": "code",
   "execution_count": 161,
   "metadata": {},
   "outputs": [],
   "source": [
    "rows = driver.find_elements(By.XPATH, '//*[@id=\"right\"]/table')[0].text.split('\\n')"
   ]
  },
  {
   "cell_type": "code",
   "execution_count": 166,
   "metadata": {},
   "outputs": [],
   "source": [
    "data = []\n",
    "for i in range(2,len(rows)):\n",
    "    tmp = rows[i].split(' ')\n",
    "    if len(tmp)<4:\n",
    "        tmp.insert(1,'')\n",
    "    data.append(tmp)"
   ]
  },
  {
   "cell_type": "code",
   "execution_count": 171,
   "metadata": {},
   "outputs": [],
   "source": [
    "df = pd.DataFrame(data, columns=['指數','權重', '本期', '與上期比漲跌'])\n",
    "df.to_excel('7_上海航運交易所_海上絲綢之路運價指數.xlsx', index = 0)"
   ]
  }
 ],
 "metadata": {
  "kernelspec": {
   "display_name": "anue",
   "language": "python",
   "name": "python3"
  },
  "language_info": {
   "codemirror_mode": {
    "name": "ipython",
    "version": 3
   },
   "file_extension": ".py",
   "mimetype": "text/x-python",
   "name": "python",
   "nbconvert_exporter": "python",
   "pygments_lexer": "ipython3",
   "version": "3.9.19"
  }
 },
 "nbformat": 4,
 "nbformat_minor": 2
}
