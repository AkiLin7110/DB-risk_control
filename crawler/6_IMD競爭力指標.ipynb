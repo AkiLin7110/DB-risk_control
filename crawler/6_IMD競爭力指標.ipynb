{
 "cells": [
  {
   "cell_type": "code",
   "execution_count": 32,
   "metadata": {},
   "outputs": [],
   "source": [
    "import pandas as pd\n",
    "import requests\n",
    "import shutil\n",
    "import datetime\n",
    "import ddddocr\n",
    "from IPython.display import Image\n",
    "from bs4 import BeautifulSoup\n",
    "from selenium import webdriver\n",
    "from selenium.webdriver.common.by import By\n",
    "import time\n",
    "\n",
    "headers = {\n",
    "    'user-agent': 'Mozilla/5.0 (Windows NT 10.0; Win64; x64) AppleWebKit/537.36 (KHTML, like Gecko) Chrome/128.0.0.0 Safari/537.36'\n",
    "}"
   ]
  },
  {
   "cell_type": "code",
   "execution_count": 33,
   "metadata": {},
   "outputs": [],
   "source": [
    "driver = webdriver.Chrome()\n",
    "driver.get('https://www.imd.org/entity-profile/india-wcr/#_yearbook_Economic%20Performance')\n",
    "driver.maximize_window()"
   ]
  },
  {
   "cell_type": "code",
   "execution_count": 34,
   "metadata": {},
   "outputs": [],
   "source": [
    "total_ranking = driver.find_elements(By.XPATH,'//*[@id=\"page-content\"]/div/div[3]/div/div[3]/div/div[2]/div/div/div')[0].text.split()\n",
    "total_ranking.insert(0,'')"
   ]
  },
  {
   "cell_type": "code",
   "execution_count": 35,
   "metadata": {},
   "outputs": [],
   "source": [
    "rankings = [{'年分': total_ranking[i],'名次': total_ranking[i+1]}for i in range(0,len(total_ranking)) if i%3 == 1 ]"
   ]
  },
  {
   "cell_type": "code",
   "execution_count": 36,
   "metadata": {},
   "outputs": [],
   "source": [
    "length = \"window.scrollBy(0,500)\"\n",
    "driver.execute_script(length)\n",
    "rankings = []\n",
    "tmp = driver.find_elements(By.XPATH,'//*[@id=\"page-content\"]/div/div[3]/div/ul/li[2]')[0].text.split('\\n')\n",
    "for i in range(0,len(tmp)-1):\n",
    "    if i == 1:\n",
    "        score = tmp[i].split('|  ')[1].split(': ')\n",
    "    if tmp[i+1] == 'th' or tmp[i+1] == 'rd':\n",
    "        rankings.append(tmp[i])\n",
    "time.sleep(2) \n",
    "       "
   ]
  },
  {
   "cell_type": "code",
   "execution_count": 66,
   "metadata": {},
   "outputs": [],
   "source": [
    "records = []\n",
    "for j in range(1,5):\n",
    "    tmp = driver.find_elements(By.XPATH,f'//*[@id=\"page-content\"]/div/div[3]/div/ul/li[{j}]')[0].text.split('\\n')\n",
    "\n",
    "    terms    = tmp[0]\n",
    "    position = tmp[1].split(' | ')[0].split(': ')[1][:-3]\n",
    "    score    = tmp[1].split(' | ')[1].split(': ')[1]\n",
    "    history  = [tmp[i] for i in range(2,len(tmp)-3) if i%2 == 1] \n",
    "\n",
    "    records.append({'terms':terms, 'position':position, 'score':score, 'history':history})"
   ]
  },
  {
   "cell_type": "code",
   "execution_count": 68,
   "metadata": {},
   "outputs": [],
   "source": [
    "DF = pd.DataFrame(records)"
   ]
  },
  {
   "cell_type": "code",
   "execution_count": 69,
   "metadata": {},
   "outputs": [],
   "source": [
    "DF.to_excel('6_IMD競爭力指標.xlsx')"
   ]
  }
 ],
 "metadata": {
  "kernelspec": {
   "display_name": "anue",
   "language": "python",
   "name": "python3"
  },
  "language_info": {
   "codemirror_mode": {
    "name": "ipython",
    "version": 3
   },
   "file_extension": ".py",
   "mimetype": "text/x-python",
   "name": "python",
   "nbconvert_exporter": "python",
   "pygments_lexer": "ipython3",
   "version": "3.9.19"
  }
 },
 "nbformat": 4,
 "nbformat_minor": 2
}
