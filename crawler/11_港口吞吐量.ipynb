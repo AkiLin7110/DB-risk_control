{
 "cells": [
  {
   "cell_type": "code",
   "execution_count": 13,
   "metadata": {},
   "outputs": [],
   "source": [
    "import pandas as pd\n",
    "import requests\n",
    "import shutil\n",
    "import datetime\n",
    "from IPython.display import Image\n",
    "from bs4 import BeautifulSoup\n",
    "from selenium import webdriver\n",
    "from selenium.webdriver.common.by import By\n",
    "from selenium.webdriver.common.keys import Keys\n",
    "from selenium.webdriver.chrome.options import Options\n",
    "import time\n",
    "from tqdm import tqdm\n",
    "\n",
    "import matplotlib\n",
    "matplotlib.rc('font', family='Microsoft JhengHei')\n",
    "matplotlib.rcParams['axes.unicode_minus']=False\n",
    "\n",
    "# headers = {\n",
    "#     'user-agent': 'Mozilla/5.0 (Windows NT 10.0; Win64; x64) AppleWebKit/537.36 (KHTML, like Gecko) Chrome/128.0.0.0 Safari/537.36'\n",
    "# }\n",
    "options = Options()\n",
    "options.add_argument('--disable-blink-features=AutomationControlled')\n",
    "options.add_argument(\"--disable-extensions\")\n",
    "options.add_experimental_option('useAutomationExtension', False)\n",
    "options.add_experimental_option(\"excludeSwitches\", [\"enable-automation\"])\n",
    "driver = webdriver.Chrome(options=options)\n",
    "searching_airport = 'SHANGHAI'"
   ]
  },
  {
   "cell_type": "code",
   "execution_count": 14,
   "metadata": {},
   "outputs": [
    {
     "data": {
      "text/plain": [
       "[]"
      ]
     },
     "execution_count": 14,
     "metadata": {},
     "output_type": "execute_result"
    }
   ],
   "source": [
    "driver = uc.Chrome(headless=False,use_subprocess=False)\n",
    "driver.maximize_window()\n",
    "driver.get('https://www.marinetraffic.com/en/data/?asset_type=vessels&columns=flag%2Cshipname%2Cphoto%2Crecognized_next_port%2Creported_eta%2Creported_destination%2Ccurrent_port%2Cimo%2Cship_type%2Cshow_on_live_map%2Ctime_of_latest_position%2Clat_of_latest_position%2Clon_of_latest_position%2Cnotes&recognized_next_port_in=1253%7CSHANGHAI')\n",
    "driver.find_elements(By.XPATH, '//*[@id=\"vessels\"]/div')\n",
    "driver.find_elements(By.XPATH, '//*[@id=\"qc-cmp2-ui\"]/div[2]/div/button[2]')[0].click()\n",
    "driver.find_elements(By.XPATH,'//*[@id=\"login_form\"]/div/div[1]/div/div')[0].send_keys('aki.lin@syntecclub.com')"
   ]
  },
  {
   "cell_type": "code",
   "execution_count": 6,
   "metadata": {},
   "outputs": [
    {
     "name": "stderr",
     "output_type": "stream",
     "text": [
      "c:\\Users\\10101974\\.conda\\envs\\predict\\lib\\site-packages\\urllib3\\connectionpool.py:1099: InsecureRequestWarning: Unverified HTTPS request is being made to host 'www.marinetraffic.com'. Adding certificate verification is strongly advised. See: https://urllib3.readthedocs.io/en/latest/advanced-usage.html#tls-warnings\n",
      "  warnings.warn(\n"
     ]
    },
    {
     "name": "stdout",
     "output_type": "stream",
     "text": [
      "<RequestsCookieJar[<Cookie __cf_bm=n.otd5YT29csENRpkdiwxvFBE6u.dXzjBY2m_3zCxn8-1728882370-1.0.1.1-qj_bvWADpnyzvVSBxLTvwzP_UPPGk6WIhc7X5kvuvLYgWcefnQ4t9kpwd5Az0MhazEXcm9yEuwaUA37GhneWag for .marinetraffic.com/>, <Cookie _cfuvid=8_3tKKVULQD9defbi0Sjjvd4hwIzFP9B74yWQv4USsE-1728882370769-0.0.1.1-604800000 for .marinetraffic.com/>]>\n",
      "[{'domain': '.marinetraffic.com', 'httpOnly': True, 'name': '_cfuvid', 'path': '/', 'sameSite': 'None', 'secure': True, 'value': 'wtlq0tlnzDv9ZQJFEtmaCtwXprt4N2Birchc8LWAG14-1728882376751-0.0.1.1-604800000'}, {'domain': '.marinetraffic.com', 'expiry': 1728884177, 'httpOnly': True, 'name': '__cf_bm', 'path': '/', 'sameSite': 'None', 'secure': True, 'value': '_isj2yC0drL4p7FLsXDzS5rLTMh5w_WSnLUiMe1Ra34-1728882376-1.0.1.1-XEOf3bukdTT0AeMg5TIXKApYs6x4G81penCKvfrMEHNHfHL4VV9wLwcxynb_yOrHmw0_lhx4rrsLH9f8Tdq2mw'}]\n",
      "[{'domain': 'www.marinetraffic.com', 'httpOnly': False, 'name': '_cfuvid', 'path': '/', 'sameSite': 'Lax', 'secure': True, 'value': '8_3tKKVULQD9defbi0Sjjvd4hwIzFP9B74yWQv4USsE-1728882370769-0.0.1.1-604800000'}, {'domain': 'www.marinetraffic.com', 'httpOnly': False, 'name': '__cf_bm', 'path': '/', 'sameSite': 'Lax', 'secure': True, 'value': 'n.otd5YT29csENRpkdiwxvFBE6u.dXzjBY2m_3zCxn8-1728882370-1.0.1.1-qj_bvWADpnyzvVSBxLTvwzP_UPPGk6WIhc7X5kvuvLYgWcefnQ4t9kpwd5Az0MhazEXcm9yEuwaUA37GhneWag'}, {'domain': '.marinetraffic.com', 'expiry': 1760418379, 'httpOnly': True, 'name': 'cf_clearance', 'path': '/', 'sameSite': 'None', 'secure': True, 'value': 'rsHVWRnpfD6IoR8rHYe2DU2pKYE5NLwVaZ_IKwHCCvs-1728882378-1.2.1.1-ClVIZuEaqb4cF84fOXSEvOE1TAliTvJ31AnvoZ0AXTguZMY8_sJtMdXgAFmXFJN85fZF3Kr7ICrvYTgtmkej3yxYbpRjYctR9S57nOOwNuo7IfYZh7P9ndoDINuS0_4jKfSblJKAsuhGoz5VBX0CJnSu6vrb_IOtjXPFFgEeIQRD8YYlSRL5lZ4e41k9WQqCxgQhvaYA4HIXO0LFe3IWMw3PRrv5fC68FT8K9rOivPlDm0BZOkYQUFW.eMMEHKMfQMy9LRLvF6T_RU4dIRSrS3zJu0Gp7.okV_Ne4jiyb4ny9hm0VgOkUFZHS4jbz3hHfG5Fvq99GXXoLd9AIBhhCFfGEzBKG7kWk4T7YJDNPW3W1dkPyhwRxbukyGhc49jF'}]\n"
     ]
    }
   ],
   "source": [
    "# import requests\n",
    "# from selenium import webdriver\n",
    " \n",
    "# session = requests.session()   #requests以session会话形式访问网站\n",
    "# url = 'https://www.marinetraffic.com/en/data/?asset_type=vessels&columns=flag%2Cshipname%2Cphoto%2Crecognized_next_port%2Creported_eta%2Creported_destination%2Ccurrent_port%2Cimo%2Cship_type%2Cshow_on_live_map%2Ctime_of_latest_position%2Clat_of_latest_position%2Clon_of_latest_position%2Cnotes&recognized_next_port_in=1253%7CSHANGHAI'\n",
    "# headers = {'User-Agent':'Mozilla/5.0 (Windows NT 6.1; Win64; x64) AppleWebKit/537.36 (KHTML, like Gecko) Chrome/86.0.4240.75 Safari/537.36'}\n",
    "# req = requests.Request(method='GET', url=url, headers=headers)\n",
    "# rpe = session.send(session.prepare_request(req), \n",
    "#                     verify=False,# verify设置为False来规避SSL证书验证\n",
    "#                     timeout=10)  \n",
    "# print(session.cookies)\n",
    " \n",
    "# # webapi = webdriver.Chrome(options=options)\n",
    "# webapi = uc.Chrome(headless=False,use_subprocess=False)\n",
    "# webapi.implicitly_wait(10)  #全局等待10s\n",
    "# webapi.get(url)   \n",
    "# print(webapi.get_cookies())  #此时的selenium侧的cookies\n",
    "# webapi.delete_all_cookies() #删除selenium侧的所有cookies\n",
    "# for k,v in session.cookies.items(): #获取requests侧的cookies\n",
    "#     webapi.add_cookie({'name':k,'value':v})    #向selenium侧传入以requests侧cookies的name为键value为值的字典\n",
    "# print(webapi.get_cookies())  #此时的cookies同步为requests侧的cookies"
   ]
  }
 ],
 "metadata": {
  "kernelspec": {
   "display_name": "predict",
   "language": "python",
   "name": "python3"
  },
  "language_info": {
   "codemirror_mode": {
    "name": "ipython",
    "version": 3
   },
   "file_extension": ".py",
   "mimetype": "text/x-python",
   "name": "python",
   "nbconvert_exporter": "python",
   "pygments_lexer": "ipython3",
   "version": "3.8.19"
  }
 },
 "nbformat": 4,
 "nbformat_minor": 2
}
